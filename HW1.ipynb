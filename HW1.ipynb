{
  "nbformat": 4,
  "nbformat_minor": 0,
  "metadata": {
    "colab": {
      "provenance": [],
      "mount_file_id": "1j164xHvaRxZOHi9rxc29lN1pPTJSVc1u",
      "authorship_tag": "ABX9TyP8lAVTsZjnyZRY8Lcyzg7z",
      "include_colab_link": true
    },
    "kernelspec": {
      "name": "python3",
      "display_name": "Python 3"
    },
    "language_info": {
      "name": "python"
    }
  },
  "cells": [
    {
      "cell_type": "markdown",
      "metadata": {
        "id": "view-in-github",
        "colab_type": "text"
      },
      "source": [
        "<a href=\"https://colab.research.google.com/github/Andrea-ZW/ERNM_Paper/blob/main/HW1.ipynb\" target=\"_parent\"><img src=\"https://colab.research.google.com/assets/colab-badge.svg\" alt=\"Open In Colab\"/></a>"
      ]
    },
    {
      "cell_type": "code",
      "source": [
        "from google.colab import drive\n",
        "drive.mount('/content/drive')\n",
        "%cd /content/drive/MyDrive/231A/"
      ],
      "metadata": {
        "colab": {
          "base_uri": "https://localhost:8080/"
        },
        "id": "4-KD3dBq9vaI",
        "outputId": "36ae04a2-117a-4ce7-c674-c2a15c03db32"
      },
      "execution_count": 3,
      "outputs": [
        {
          "output_type": "stream",
          "name": "stdout",
          "text": [
            "Mounted at /content/drive\n",
            "/content/drive/MyDrive/231A\n"
          ]
        }
      ]
    },
    {
      "cell_type": "code",
      "execution_count": 5,
      "metadata": {
        "id": "TFQo4H2c9Haa"
      },
      "outputs": [],
      "source": [
        "import numpy as np\n",
        "# Set a default seed to make debugging easier\n",
        "np.random.seed(0)\n",
        "def my_logistic(x, y, epsilon = 1e-6):\n",
        "    \"\"\"\n",
        "    Input:\n",
        "        x: An n x p matrix each row represents a single data point of dimension p\n",
        "        y: An n x 1 vector of labels: True or False, where each entry corresponds to each row in X\n",
        "        epsilon: defaulted to 1e-6\n",
        "    Output:\n",
        "        beta: An n x 1 vector of coefficients optimizing the logistic regression problem\n",
        "        losses: an array of losses keepin record of the progression\n",
        "    \"\"\"\n",
        "    # initialize a list to keep records of all the losses\n",
        "    losses = []\n",
        "    # row column\n",
        "    r, c = x.shape\n",
        "    # initialize our beta vector to be all ones\n",
        "    beta = np.zeros((c, 1))\n",
        "    # run the while loop until we are within an epsilon error\n",
        "    err = 1\n",
        "    while err > epsilon:\n",
        "        # matrix x times vector beta, to produce a vector of signals \n",
        "        s= x.dot(beta)\n",
        "        # compute probability\n",
        "        pr = 1/(1+np.exp(-s))\n",
        "        # from class, we showed that l’’(s_i) == -p_i(1 - p_i) = -w_i\n",
        "        # so we compute the weight based on the probability computed from the signal s\n",
        "        w= (pr*(1-pr))\n",
        "        arb_small = np.ones_like(w, dtype='float64')*.000001\n",
        "        # from class this is equivalent to e_i / w_i\n",
        "        y_hat =  np.divide((y-pr),w, out=arb_small, where=w!=0)\n",
        "        # adjust parameters for partial least-squares solution\n",
        "        sw = np.sqrt(w)\n",
        "        mw = np.repeat(sw, c, axis=1)\n",
        "        xw = x * sw\n",
        "        xwt = np.transpose(xw)\n",
        "        x_work = np.dot(xwt,xw)\n",
        "        y_work = np.dot(xwt,y_hat*sw)\n",
        "        # solve partial least squares problem\n",
        "        delta_beta, _, _, _ = np.linalg.lstsq(x_work, y_work,rcond=None)\n",
        "        # recompute the error\n",
        "        err = np.sum(np.abs(delta_beta))\n",
        "        # keep record of the error\n",
        "        losses.append(err)\n",
        "        # adjust beta\n",
        "        beta = beta + delta_beta\n",
        "    return beta, np.array(losses)\n",
        "\n"
      ]
    },
    {
      "cell_type": "code",
      "source": [
        "def sigmoid(x):\n",
        "    return 1 / (1+np.exp(-x))\n",
        "n = 100\n",
        "p = 2 # Just to make easy to visualize as a plot\n",
        "X = np.random.normal(0, 1, (n, p))\n",
        "print(\"----\")\n",
        "beta = np.array([[1],[2]])\n",
        "print(\"beta: \", beta)\n",
        "print(\"beta shape: \", beta.shape)\n",
        "print(\"----\")\n",
        "Y = np.random.uniform(0, 1, (n, 1)) < sigmoid(np.dot(X, beta)).reshape((n, 1))\n",
        "beta_hat, losses = my_logistic(X, Y)\n",
        "print(\"beta_hat: \", beta_hat)\n",
        "print(\"beta_hat shape: \", beta_hat.shape)"
      ],
      "metadata": {
        "colab": {
          "base_uri": "https://localhost:8080/"
        },
        "id": "kgB560Bv9Q5C",
        "outputId": "716934c3-7194-4e61-d15a-11e9419fffff"
      },
      "execution_count": 6,
      "outputs": [
        {
          "output_type": "stream",
          "name": "stdout",
          "text": [
            "----\n",
            "beta:  [[1]\n",
            " [2]]\n",
            "beta shape:  (2, 1)\n",
            "----\n",
            "beta_hat:  [[0.47267752]\n",
            " [2.42485708]]\n",
            "beta_hat shape:  (2, 1)\n"
          ]
        }
      ]
    }
  ]
}